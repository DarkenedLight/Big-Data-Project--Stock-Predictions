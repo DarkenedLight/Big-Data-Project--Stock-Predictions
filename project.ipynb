{
 "cells": [
  {
   "cell_type": "code",
   "execution_count": 281,
   "metadata": {},
   "outputs": [],
   "source": [
    "#source: https://www.geeksforgeeks.org/twitter-sentiment-analysis-using-python/\n",
    "import re\n",
    "from textblob import TextBlob\n",
    "\n",
    "def clean_tweet(tweet): \n",
    "        ''' \n",
    "        Utility function to clean tweet text by removing links, special characters \n",
    "        using simple regex statements. \n",
    "        '''\n",
    "        return ' '.join(re.sub(\"(@[A-Za-z0-9]+)|([^0-9A-Za-z \\t]) |(\\w+:\\/\\/\\S+)\", \" \", tweet).split()) \n",
    "\n",
    "def get_polarity(tweet):\n",
    "    analysis = TextBlob(tweet)\n",
    "    polarity = analysis.sentiment.polarity\n",
    "    return polarity"
   ]
  },
  {
   "cell_type": "code",
   "execution_count": 282,
   "metadata": {},
   "outputs": [],
   "source": [
    "import json\n",
    "import pandas as pd\n",
    "from datetime import datetime\n",
    "\n",
    "files = [\"CSIQ.json\", \"FSLR.json\", \"VWSYF.json\"]\n",
    "cols = [\"Date\", \"Sentiment\"]\n",
    "csiq_twt = pd.DataFrame(columns=cols)\n",
    "fslr_twt = pd.DataFrame(columns=cols)\n",
    "vwsyf_twt = pd.DataFrame(columns=cols)\n",
    "\n",
    "for file in files:\n",
    "    with open(\"./twitter-data/\"+file, encoding=\"utf-8\") as f:\n",
    "        data = json.load(f)\n",
    "        for time_stamp in data:\n",
    "            analysis = None\n",
    "            tweet = clean_tweet(data[time_stamp])\n",
    "            if file == \"CSIQ.json\":\n",
    "                if \"canadian solar\" in tweet.lower() or \"csiq\" in tweet.lower():\n",
    "                    polarity = get_polarity(tweet)\n",
    "                    date = datetime.utcfromtimestamp(int(time_stamp)/1000).strftime('%Y-%m-%d')\n",
    "                    to_add = pd.DataFrame([[date, polarity]], columns=cols)\n",
    "                    csiq_twt = csiq_twt.append(to_add)\n",
    "                else:\n",
    "                    continue\n",
    "            elif file == \"FSLR.json\":\n",
    "                if \"first solar\" in tweet.lower() or \"fslr\" in tweet.lower():\n",
    "                    polarity = get_polarity(tweet)\n",
    "                    date = datetime.utcfromtimestamp(int(time_stamp)/1000).strftime('%Y-%m-%d')\n",
    "                    to_add = pd.DataFrame([[date, polarity]], columns=cols)\n",
    "                    fslr_twt = fslr_twt.append(to_add)\n",
    "                else:\n",
    "                    continue\n",
    "            elif file == \"VWSYF.json\":\n",
    "                if \"vestas wind systems\" in tweet.lower() or \"vwsyf\" in tweet.lower():\n",
    "                    polarity = get_polarity(tweet)\n",
    "                    date = datetime.utcfromtimestamp(int(time_stamp)/1000).strftime('%Y-%m-%d')\n",
    "                    to_add = pd.DataFrame([[date, polarity]], columns=cols)\n",
    "                    vwsyf_twt = vwsyf_twt.append(to_add)\n",
    "                else:\n",
    "                    continue"
   ]
  },
  {
   "cell_type": "code",
   "execution_count": 283,
   "metadata": {
    "scrolled": true
   },
   "outputs": [
    {
     "data": {
      "text/plain": [
       "Date\n",
       "2015-04-28    0.044444\n",
       "2015-04-29    0.650000\n",
       "2015-05-07    0.000000\n",
       "2015-05-08    0.000000\n",
       "2015-05-12    0.170833\n",
       "Name: Sentiment, dtype: float64"
      ]
     },
     "execution_count": 283,
     "metadata": {},
     "output_type": "execute_result"
    }
   ],
   "source": [
    "csiq_twt = csiq_twt.groupby(['Date']).mean()\n",
    "csiq_sentiment = csiq_twt.Sentiment\n",
    "csiq_sentiment.head()"
   ]
  },
  {
   "cell_type": "code",
   "execution_count": 284,
   "metadata": {},
   "outputs": [
    {
     "data": {
      "text/plain": [
       "Date\n",
       "2015-04-28    0.391111\n",
       "2015-04-29    0.125000\n",
       "2015-04-30    0.187500\n",
       "2015-05-01    0.218750\n",
       "2015-05-05    0.250000\n",
       "Name: Sentiment, dtype: float64"
      ]
     },
     "execution_count": 284,
     "metadata": {},
     "output_type": "execute_result"
    }
   ],
   "source": [
    "fslr_twt = fslr_twt.groupby(['Date']).mean()\n",
    "fslr_sentiment = fslr_twt.Sentiment\n",
    "fslr_sentiment.head()"
   ]
  },
  {
   "cell_type": "code",
   "execution_count": 285,
   "metadata": {},
   "outputs": [
    {
     "data": {
      "text/plain": [
       "Date\n",
       "2015-05-11    0.000000\n",
       "2015-08-05   -0.081818\n",
       "2015-08-06    0.136364\n",
       "2015-08-09    0.136364\n",
       "2016-02-24    0.000000\n",
       "Name: Sentiment, dtype: float64"
      ]
     },
     "execution_count": 285,
     "metadata": {},
     "output_type": "execute_result"
    }
   ],
   "source": [
    "vwsyf_twt = vwsyf_twt.groupby(['Date']).mean()\n",
    "vwsyf_sentiment = vwsyf_twt.Sentiment\n",
    "vwsyf_sentiment.head()"
   ]
  },
  {
   "cell_type": "code",
   "execution_count": 286,
   "metadata": {},
   "outputs": [],
   "source": [
    "\"\"\"\n",
    "this function takes in a DataFrame object contain yahoo finance data of a stock and computes the change in stock price\n",
    "for each trading day. returns a series object containing these changes in prices with the date as the index\n",
    "\"\"\"\n",
    "def get_change(prices):\n",
    "    close = prices.Close\n",
    "    close.index = prices.Date\n",
    "    N = close.shape[0]\n",
    "    change = pd.Series(close[1:N].values - close[:N-1].values, index=close.index[1:])\n",
    "    return change"
   ]
  },
  {
   "cell_type": "code",
   "execution_count": 287,
   "metadata": {},
   "outputs": [
    {
     "data": {
      "text/plain": [
       "Date\n",
       "2015-04-28    2.079998\n",
       "2015-04-29   -0.610001\n",
       "2015-04-30   -1.719997\n",
       "2015-05-01    0.859996\n",
       "2015-05-04    0.180001\n",
       "dtype: float64"
      ]
     },
     "execution_count": 287,
     "metadata": {},
     "output_type": "execute_result"
    }
   ],
   "source": [
    "csiq_prices = pd.read_csv(\"./yahoo-data/CSIQ.csv\")\n",
    "csiq_change = get_change(csiq_prices)\n",
    "csiq_change.head()"
   ]
  },
  {
   "cell_type": "code",
   "execution_count": 288,
   "metadata": {},
   "outputs": [
    {
     "data": {
      "text/plain": [
       "Date\n",
       "2015-04-28    0.650002\n",
       "2015-04-29   -1.630001\n",
       "2015-04-30   -2.270001\n",
       "2015-05-01   -2.329998\n",
       "2015-05-04   -0.560001\n",
       "dtype: float64"
      ]
     },
     "execution_count": 288,
     "metadata": {},
     "output_type": "execute_result"
    }
   ],
   "source": [
    "fslr_prices = pd.read_csv(\"./yahoo-data/FSLR.csv\")\n",
    "fslr_change = get_change(fslr_prices)\n",
    "fslr_change.head()"
   ]
  },
  {
   "cell_type": "code",
   "execution_count": 289,
   "metadata": {
    "scrolled": true
   },
   "outputs": [
    {
     "data": {
      "text/plain": [
       "Date\n",
       "2015-04-28    0.020000\n",
       "2015-04-29   -0.189998\n",
       "2015-04-30    0.000000\n",
       "2015-05-01    0.599998\n",
       "2015-05-04    1.320000\n",
       "dtype: float64"
      ]
     },
     "execution_count": 289,
     "metadata": {},
     "output_type": "execute_result"
    }
   ],
   "source": [
    "vwsyf_prices = pd.read_csv(\"./yahoo-data/VWSYF.csv\")\n",
    "vwsyf_change = get_change(vwsyf_prices)\n",
    "vwsyf_change.head()"
   ]
  },
  {
   "cell_type": "code",
   "execution_count": 290,
   "metadata": {},
   "outputs": [
    {
     "data": {
      "text/plain": [
       "Date\n",
       "2015-04-28    0.459999\n",
       "2015-04-29   -0.740002\n",
       "2015-04-30   -1.049999\n",
       "2015-05-01    0.490002\n",
       "2015-05-04   -0.070004\n",
       "dtype: float64"
      ]
     },
     "execution_count": 290,
     "metadata": {},
     "output_type": "execute_result"
    }
   ],
   "source": [
    "tan_prices = pd.read_csv(\"./yahoo-data/TAN.csv\")\n",
    "tan_change = get_change(tan_prices)\n",
    "tan_change.head()"
   ]
  },
  {
   "cell_type": "code",
   "execution_count": 294,
   "metadata": {},
   "outputs": [
    {
     "data": {
      "text/plain": [
       "Date\n",
       "2015-04-28    0.170000\n",
       "2015-04-29   -0.139999\n",
       "2015-04-30   -0.400002\n",
       "2015-05-01    0.120001\n",
       "2015-05-04    0.129999\n",
       "dtype: float64"
      ]
     },
     "execution_count": 294,
     "metadata": {},
     "output_type": "execute_result"
    }
   ],
   "source": [
    "qcln_prices = pd.read_csv(\"./yahoo-data/QCLN.csv\")\n",
    "qcln_change = get_change(qcln_prices)\n",
    "qcln_change.head()"
   ]
  },
  {
   "cell_type": "code",
   "execution_count": 292,
   "metadata": {},
   "outputs": [],
   "source": [
    "\"\"\"\n",
    "This function takes in a series of sentiment values, an int window size, and a current date of observation. creates and \n",
    "returns a series containing the previous window size days of sentiment values from the current date. this will be used to \n",
    "predict the sentiment value of the current date\n",
    "\"\"\"\n",
    "def get_sent_range(series, window, curr_date, debug=False):\n",
    "    curr_sent = 0\n",
    "    for sentiment in series.items():\n",
    "        if debug:\n",
    "            print(sentiment[0], curr_date)\n",
    "            print(curr_sent)\n",
    "        if sentiment[0] >= curr_date:\n",
    "            break\n",
    "        else:\n",
    "            curr_sent += 1\n",
    "    \n",
    "    if curr_sent < window:\n",
    "        sent_range = series[0:curr_sent]\n",
    "    else:\n",
    "        sent_range = series[curr_sent-window:curr_sent]\n",
    "    if debug:\n",
    "        print(sent_range)\n",
    "    return sent_range"
   ]
  },
  {
   "cell_type": "code",
   "execution_count": 567,
   "metadata": {},
   "outputs": [
    {
     "data": {
      "text/html": [
       "<div>\n",
       "<style scoped>\n",
       "    .dataframe tbody tr th:only-of-type {\n",
       "        vertical-align: middle;\n",
       "    }\n",
       "\n",
       "    .dataframe tbody tr th {\n",
       "        vertical-align: top;\n",
       "    }\n",
       "\n",
       "    .dataframe thead th {\n",
       "        text-align: right;\n",
       "    }\n",
       "</style>\n",
       "<table border=\"1\" class=\"dataframe\">\n",
       "  <thead>\n",
       "    <tr style=\"text-align: right;\">\n",
       "      <th></th>\n",
       "      <th>CSIQ_past_change</th>\n",
       "      <th>FSLR_past_change</th>\n",
       "      <th>VWSYF_past_change</th>\n",
       "      <th>QCLN_past_change</th>\n",
       "      <th>TAN_past_change</th>\n",
       "      <th>past_stock_sentiment</th>\n",
       "      <th>avg_stock_change</th>\n",
       "    </tr>\n",
       "    <tr>\n",
       "      <th>Date</th>\n",
       "      <th></th>\n",
       "      <th></th>\n",
       "      <th></th>\n",
       "      <th></th>\n",
       "      <th></th>\n",
       "      <th></th>\n",
       "      <th></th>\n",
       "    </tr>\n",
       "  </thead>\n",
       "  <tbody>\n",
       "    <tr>\n",
       "      <th>2015-05-01</th>\n",
       "      <td>-0.0833333</td>\n",
       "      <td>-1.08333</td>\n",
       "      <td>-0.056666</td>\n",
       "      <td>-0.123334</td>\n",
       "      <td>-0.443334</td>\n",
       "      <td>1</td>\n",
       "      <td>-0.290001</td>\n",
       "    </tr>\n",
       "    <tr>\n",
       "      <th>2015-05-04</th>\n",
       "      <td>-0.490001</td>\n",
       "      <td>-2.07667</td>\n",
       "      <td>0.136667</td>\n",
       "      <td>-0.14</td>\n",
       "      <td>-0.433333</td>\n",
       "      <td>1</td>\n",
       "      <td>0.313333</td>\n",
       "    </tr>\n",
       "    <tr>\n",
       "      <th>2015-05-05</th>\n",
       "      <td>-0.226667</td>\n",
       "      <td>-1.72</td>\n",
       "      <td>0.639999</td>\n",
       "      <td>-0.0500007</td>\n",
       "      <td>-0.21</td>\n",
       "      <td>1</td>\n",
       "      <td>-0.16</td>\n",
       "    </tr>\n",
       "    <tr>\n",
       "      <th>2015-05-06</th>\n",
       "      <td>0.173332</td>\n",
       "      <td>-0.953332</td>\n",
       "      <td>0.643332</td>\n",
       "      <td>-0.0199997</td>\n",
       "      <td>-0.106667</td>\n",
       "      <td>1</td>\n",
       "      <td>-0.0466663</td>\n",
       "    </tr>\n",
       "    <tr>\n",
       "      <th>2015-05-07</th>\n",
       "      <td>-0.54</td>\n",
       "      <td>-0.56</td>\n",
       "      <td>1.20667</td>\n",
       "      <td>-0.116667</td>\n",
       "      <td>-0.673334</td>\n",
       "      <td>1</td>\n",
       "      <td>0.150001</td>\n",
       "    </tr>\n",
       "  </tbody>\n",
       "</table>\n",
       "</div>"
      ],
      "text/plain": [
       "           CSIQ_past_change FSLR_past_change VWSYF_past_change  \\\n",
       "Date                                                             \n",
       "2015-05-01       -0.0833333         -1.08333         -0.056666   \n",
       "2015-05-04        -0.490001         -2.07667          0.136667   \n",
       "2015-05-05        -0.226667            -1.72          0.639999   \n",
       "2015-05-06         0.173332        -0.953332          0.643332   \n",
       "2015-05-07            -0.54            -0.56           1.20667   \n",
       "\n",
       "           QCLN_past_change TAN_past_change past_stock_sentiment  \\\n",
       "Date                                                               \n",
       "2015-05-01        -0.123334       -0.443334                    1   \n",
       "2015-05-04            -0.14       -0.433333                    1   \n",
       "2015-05-05       -0.0500007           -0.21                    1   \n",
       "2015-05-06       -0.0199997       -0.106667                    1   \n",
       "2015-05-07        -0.116667       -0.673334                    1   \n",
       "\n",
       "           avg_stock_change  \n",
       "Date                         \n",
       "2015-05-01        -0.290001  \n",
       "2015-05-04         0.313333  \n",
       "2015-05-05            -0.16  \n",
       "2015-05-06       -0.0466663  \n",
       "2015-05-07         0.150001  "
      ]
     },
     "execution_count": 567,
     "metadata": {},
     "output_type": "execute_result"
    }
   ],
   "source": [
    "#use previous \"window\" days to predict the current days sentiment and stock change for ETFs TAN and QCLN\n",
    "window = 3\n",
    "curr_stock = 0\n",
    "dates = csiq_change.index\n",
    "final_dict = {}\n",
    "final_dict[\"CSIQ_past_change\"] = []\n",
    "final_dict[\"FSLR_past_change\"] = []\n",
    "final_dict[\"VWSYF_past_change\"] = []\n",
    "final_dict[\"QCLN_past_change\"] = []\n",
    "final_dict[\"TAN_past_change\"] = []\n",
    "final_dict[\"past_stock_sentiment\"] = []\n",
    "final_dict[\"avg_stock_change\"] = []\n",
    "\n",
    "#insert window size dummy data so date indexes line up with number of row entries\n",
    "for i in range(window):\n",
    "    final_dict[\"CSIQ_past_change\"].append(\"na\") \n",
    "    final_dict[\"FSLR_past_change\"].append(\"na\") \n",
    "    final_dict[\"VWSYF_past_change\"].append(\"na\") \n",
    "    final_dict[\"QCLN_past_change\"].append(\"na\") \n",
    "    final_dict[\"TAN_past_change\"].append(\"na\") \n",
    "    final_dict[\"past_stock_sentiment\"].append(\"na\") \n",
    "    final_dict[\"avg_stock_change\"].append(\"na\")\n",
    "\n",
    "for i in range(window, len(dates)):\n",
    "    stock_day = dates[i]\n",
    "    \n",
    "    # get series of past window size days sentiments for each stock\n",
    "    csiq_sent_range = get_sent_range(csiq_sentiment, window, stock_day)\n",
    "    fslr_sent_range = get_sent_range(fslr_sentiment, window, stock_day)\n",
    "    vwsyf_sent_range = get_sent_range(vwsyf_sentiment, window, stock_day)\n",
    "    \n",
    "    # take the majority sentiment\n",
    "    pos = 0\n",
    "    neg = 0\n",
    "    neut = 0\n",
    "    sent = \"\"\n",
    "    for el in csiq_sent_range:\n",
    "        if el > 0:\n",
    "            pos += 1\n",
    "        elif el < 0:\n",
    "            neg += 1\n",
    "        else:\n",
    "            neut += 1\n",
    "    for el in fslr_sent_range:\n",
    "        if el > 0:\n",
    "            pos += 1\n",
    "        elif el < 0:\n",
    "            neg += 1\n",
    "        else:\n",
    "            neut += 1\n",
    "    for el in vwsyf_sent_range:\n",
    "        if el > 0:\n",
    "            pos += 1\n",
    "        elif el < 0:\n",
    "            neg += 1\n",
    "        else:\n",
    "            neut += 1\n",
    "    \n",
    "    if pos > neg and pos > neut:\n",
    "        sent = 1\n",
    "    elif neg > pos and neg > neut:\n",
    "        sent = -1\n",
    "    #if neutral is highest, or any of the values are equal, then make sentiment neutral\n",
    "    else:\n",
    "        sent = 0\n",
    "        \n",
    "    # get series of past window size days price changes for the ETFs and average them\n",
    "    tan_change_range = tan_change[i-window:i]\n",
    "    qcln_change_range = qcln_change[i-window:i]\n",
    "    \n",
    "    tan_avg_change = tan_change_range.mean()\n",
    "    qcln_avg_change = qcln_change_range.mean()\n",
    "    \n",
    "    # get series of past window size days pice changes for the stocks\n",
    "    csiq_change_range = csiq_change[i-window:i]\n",
    "    fslr_change_range = fslr_change[i-window:i]\n",
    "    vwsyf_change_range = vwsyf_change[i-window:i]\n",
    "    \n",
    "    csiq_avg_change = csiq_change_range.mean()\n",
    "    fslr_avg_change = fslr_change_range.mean()\n",
    "    vwsyf_avg_change = vwsyf_change_range.mean()\n",
    "    \n",
    "    # average the change in stock prices\n",
    "    change = 0\n",
    "    change += csiq_change[stock_day]\n",
    "    change += fslr_change[stock_day]\n",
    "    change += vwsyf_change[stock_day]\n",
    "    change /= 3\n",
    "    \n",
    "    final_dict[\"CSIQ_past_change\"].append(csiq_avg_change) \n",
    "    final_dict[\"FSLR_past_change\"].append(fslr_avg_change) \n",
    "    final_dict[\"VWSYF_past_change\"].append(vwsyf_avg_change) \n",
    "    final_dict[\"QCLN_past_change\"].append(qcln_avg_change) \n",
    "    final_dict[\"TAN_past_change\"].append(tan_avg_change) \n",
    "    final_dict[\"past_stock_sentiment\"].append(sent)\n",
    "    final_dict[\"avg_stock_change\"].append(change)\n",
    "    \n",
    "final_df = pd.DataFrame(data=final_dict, index=dates)\n",
    "final_df = final_df[window:]\n",
    "final_df.head()"
   ]
  },
  {
   "cell_type": "code",
   "execution_count": 565,
   "metadata": {},
   "outputs": [
    {
     "name": "stdout",
     "output_type": "stream",
     "text": [
      "R-square without sentiment = 0.0537\n"
     ]
    }
   ],
   "source": [
    "from sklearn.model_selection import train_test_split\n",
    "from sklearn.svm import SVR\n",
    "from sklearn import linear_model\n",
    "from sklearn.metrics import mean_squared_error, r2_score\n",
    "import matplotlib.pyplot as plt\n",
    "import numpy as np\n",
    "\n",
    "# regression model with just stock data\n",
    "\n",
    "X = final_df[final_df.columns[0:5]]\n",
    "y = final_df.avg_stock_change\n",
    "\n",
    "X_train, X_test, y_train, y_test = train_test_split(X, y, test_size=0.3, random_state=0)\n",
    "\n",
    "# Create linear regression object\n",
    "regr = SVR(gamma='scale', C=2, epsilon=0.01)\n",
    "#regr = linear_model.LinearRegression()\n",
    "\n",
    "# Fit regression model to the training set\n",
    "regr.fit(X_train, y_train)\n",
    "\n",
    "# Apply model to the test set\n",
    "y_pred_test = regr.predict(X_test)\n",
    "\n",
    "print(\"R-square without sentiment = %.4f\" % r2_score(y_test, y_pred_test))"
   ]
  },
  {
   "cell_type": "code",
   "execution_count": 564,
   "metadata": {},
   "outputs": [
    {
     "name": "stdout",
     "output_type": "stream",
     "text": [
      "R-square with sentiment = 0.0860\n"
     ]
    }
   ],
   "source": [
    "# regression model with sentiment added\n",
    "\n",
    "# regression model with just stock data\n",
    "\n",
    "X = final_df[final_df.columns[0:-1]]\n",
    "y = final_df.avg_stock_change\n",
    "\n",
    "X_train, X_test, y_train, y_test = train_test_split(X, y, test_size=0.3, random_state=0)\n",
    "\n",
    "# Create linear regression object\n",
    "regr = SVR(gamma='scale', C=2, epsilon=0.01)\n",
    "#regr = linear_model.LinearRegression()\n",
    "\n",
    "# Fit regression model to the training set\n",
    "regr.fit(X_train, y_train)\n",
    "\n",
    "# Apply model to the test set\n",
    "y_pred_test = regr.predict(X_test)\n",
    "\n",
    "print(\"R-square with sentiment = %.4f\" % r2_score(y_test, y_pred_test))"
   ]
  }
 ],
 "metadata": {
  "kernelspec": {
   "display_name": "Python 3",
   "language": "python",
   "name": "python3"
  },
  "language_info": {
   "codemirror_mode": {
    "name": "ipython",
    "version": 3
   },
   "file_extension": ".py",
   "mimetype": "text/x-python",
   "name": "python",
   "nbconvert_exporter": "python",
   "pygments_lexer": "ipython3",
   "version": "3.6.3"
  }
 },
 "nbformat": 4,
 "nbformat_minor": 2
}
